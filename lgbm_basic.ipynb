{
 "cells": [
  {
   "cell_type": "code",
   "execution_count": null,
   "id": "0e5998ec-19c7-41f0-8dd7-c7922c86f745",
   "metadata": {},
   "outputs": [],
   "source": []
  }
 ],
 "metadata": {
  "kernelspec": {
   "display_name": "",
   "name": ""
  },
  "language_info": {
   "name": ""
  }
 },
 "nbformat": 4,
 "nbformat_minor": 5
}
